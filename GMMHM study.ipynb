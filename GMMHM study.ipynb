{
 "cells": [
  {
   "cell_type": "code",
   "execution_count": 1,
   "metadata": {},
   "outputs": [],
   "source": [
    "import numpy as np\n",
    "from pomegranate import *\n",
    "import pandas as pd\n",
    "\n",
    "import missingno as msno\n",
    "\n",
    "import seaborn as sns\n",
    "sns.set_style(\"white\")\n",
    "import matplotlib as mpl\n",
    "from matplotlib import cm\n",
    "import matplotlib.pyplot as plt\n",
    "%matplotlib inline"
   ]
  },
  {
   "cell_type": "code",
   "execution_count": 2,
   "metadata": {},
   "outputs": [
    {
     "data": {
      "text/html": [
       "<div>\n",
       "<style scoped>\n",
       "    .dataframe tbody tr th:only-of-type {\n",
       "        vertical-align: middle;\n",
       "    }\n",
       "\n",
       "    .dataframe tbody tr th {\n",
       "        vertical-align: top;\n",
       "    }\n",
       "\n",
       "    .dataframe thead th {\n",
       "        text-align: right;\n",
       "    }\n",
       "</style>\n",
       "<table border=\"1\" class=\"dataframe\">\n",
       "  <thead>\n",
       "    <tr style=\"text-align: right;\">\n",
       "      <th></th>\n",
       "      <th>0</th>\n",
       "      <th>1</th>\n",
       "      <th>2</th>\n",
       "      <th>3</th>\n",
       "      <th>4</th>\n",
       "      <th>5</th>\n",
       "      <th>6</th>\n",
       "      <th>7</th>\n",
       "    </tr>\n",
       "  </thead>\n",
       "  <tbody>\n",
       "    <tr>\n",
       "      <th>0</th>\n",
       "      <td>0.124086</td>\n",
       "      <td>0.123077</td>\n",
       "      <td>0.124692</td>\n",
       "      <td>0.123098</td>\n",
       "      <td>0.121993</td>\n",
       "      <td>0.120885</td>\n",
       "      <td>0.120650</td>\n",
       "      <td>0.122520</td>\n",
       "    </tr>\n",
       "    <tr>\n",
       "      <th>1</th>\n",
       "      <td>0.125157</td>\n",
       "      <td>0.121047</td>\n",
       "      <td>0.119458</td>\n",
       "      <td>0.121360</td>\n",
       "      <td>0.123017</td>\n",
       "      <td>0.120512</td>\n",
       "      <td>0.123048</td>\n",
       "      <td>0.122855</td>\n",
       "    </tr>\n",
       "    <tr>\n",
       "      <th>2</th>\n",
       "      <td>0.125133</td>\n",
       "      <td>0.125864</td>\n",
       "      <td>0.122109</td>\n",
       "      <td>0.126549</td>\n",
       "      <td>0.124533</td>\n",
       "      <td>0.121847</td>\n",
       "      <td>0.120396</td>\n",
       "      <td>0.123333</td>\n",
       "    </tr>\n",
       "    <tr>\n",
       "      <th>3</th>\n",
       "      <td>0.125903</td>\n",
       "      <td>0.122256</td>\n",
       "      <td>0.125582</td>\n",
       "      <td>0.123162</td>\n",
       "      <td>0.122565</td>\n",
       "      <td>0.122018</td>\n",
       "      <td>0.124485</td>\n",
       "      <td>0.125027</td>\n",
       "    </tr>\n",
       "    <tr>\n",
       "      <th>4</th>\n",
       "      <td>0.123719</td>\n",
       "      <td>0.128365</td>\n",
       "      <td>0.121615</td>\n",
       "      <td>0.123504</td>\n",
       "      <td>0.119830</td>\n",
       "      <td>0.126062</td>\n",
       "      <td>0.123403</td>\n",
       "      <td>0.122291</td>\n",
       "    </tr>\n",
       "  </tbody>\n",
       "</table>\n",
       "</div>"
      ],
      "text/plain": [
       "          0         1         2         3         4         5         6  \\\n",
       "0  0.124086  0.123077  0.124692  0.123098  0.121993  0.120885  0.120650   \n",
       "1  0.125157  0.121047  0.119458  0.121360  0.123017  0.120512  0.123048   \n",
       "2  0.125133  0.125864  0.122109  0.126549  0.124533  0.121847  0.120396   \n",
       "3  0.125903  0.122256  0.125582  0.123162  0.122565  0.122018  0.124485   \n",
       "4  0.123719  0.128365  0.121615  0.123504  0.119830  0.126062  0.123403   \n",
       "\n",
       "          7  \n",
       "0  0.122520  \n",
       "1  0.122855  \n",
       "2  0.123333  \n",
       "3  0.125027  \n",
       "4  0.122291  "
      ]
     },
     "execution_count": 2,
     "metadata": {},
     "output_type": "execute_result"
    }
   ],
   "source": [
    "data = pd.read_csv('Data/data_rms_bearing_1.txt', header = None, sep='\\s+')\n",
    "\n",
    "# remove column 8\n",
    "data = data.drop([8], axis=1)\n",
    "data.head()"
   ]
  },
  {
   "cell_type": "markdown",
   "metadata": {},
   "source": [
    "# Details Dataset\n",
    "- Recording Duration:  October 22, 2003 12:06:24 to November 25, 2003 23:39:56 \n",
    "- No. of Files: 2,156 \n",
    "- No. of Channels:  8  \n",
    "- Channel Arrangement:  Bearing 1 – Ch 1&2; Bearing 2 – Ch 3&4;   Bearing 3 – Ch 5&6; Bearing 4 – Ch 7&8. \n",
    "- File Recording Interval:  Every 10 minutes (except the first 43 files were taken every 5 minutes) \n",
    "- File Format:  ASCII \n",
    "- Description: At the end of the test-to-failure experiment, inner race defect occurred in bearing 3 and roller element defect in bearing 4. "
   ]
  },
  {
   "cell_type": "code",
   "execution_count": 3,
   "metadata": {},
   "outputs": [],
   "source": [
    "# create list minutes\n",
    "minutes = []\n",
    "start = 0\n",
    "for t in range(len(data)):\n",
    "    # Every 10 minutes (except the first 43 files were taken every 5 minutes) \n",
    "    minutes.append(start)\n",
    "    if t <= 43: \n",
    "        start += 5\n",
    "    else:\n",
    "        start += 20"
   ]
  },
  {
   "cell_type": "code",
   "execution_count": 4,
   "metadata": {},
   "outputs": [],
   "source": [
    "# add into dataframe\n",
    "se = pd.Series(minutes)\n",
    "data['Time'] = se.values"
   ]
  },
  {
   "cell_type": "code",
   "execution_count": 5,
   "metadata": {},
   "outputs": [
    {
     "data": {
      "text/html": [
       "<div>\n",
       "<style scoped>\n",
       "    .dataframe tbody tr th:only-of-type {\n",
       "        vertical-align: middle;\n",
       "    }\n",
       "\n",
       "    .dataframe tbody tr th {\n",
       "        vertical-align: top;\n",
       "    }\n",
       "\n",
       "    .dataframe thead th {\n",
       "        text-align: right;\n",
       "    }\n",
       "</style>\n",
       "<table border=\"1\" class=\"dataframe\">\n",
       "  <thead>\n",
       "    <tr style=\"text-align: right;\">\n",
       "      <th></th>\n",
       "      <th>0</th>\n",
       "      <th>1</th>\n",
       "      <th>2</th>\n",
       "      <th>3</th>\n",
       "      <th>4</th>\n",
       "      <th>5</th>\n",
       "      <th>6</th>\n",
       "      <th>7</th>\n",
       "      <th>Time</th>\n",
       "    </tr>\n",
       "  </thead>\n",
       "  <tbody>\n",
       "    <tr>\n",
       "      <th>0</th>\n",
       "      <td>0.124086</td>\n",
       "      <td>0.123077</td>\n",
       "      <td>0.124692</td>\n",
       "      <td>0.123098</td>\n",
       "      <td>0.121993</td>\n",
       "      <td>0.120885</td>\n",
       "      <td>0.120650</td>\n",
       "      <td>0.122520</td>\n",
       "      <td>0</td>\n",
       "    </tr>\n",
       "    <tr>\n",
       "      <th>1</th>\n",
       "      <td>0.125157</td>\n",
       "      <td>0.121047</td>\n",
       "      <td>0.119458</td>\n",
       "      <td>0.121360</td>\n",
       "      <td>0.123017</td>\n",
       "      <td>0.120512</td>\n",
       "      <td>0.123048</td>\n",
       "      <td>0.122855</td>\n",
       "      <td>5</td>\n",
       "    </tr>\n",
       "    <tr>\n",
       "      <th>2</th>\n",
       "      <td>0.125133</td>\n",
       "      <td>0.125864</td>\n",
       "      <td>0.122109</td>\n",
       "      <td>0.126549</td>\n",
       "      <td>0.124533</td>\n",
       "      <td>0.121847</td>\n",
       "      <td>0.120396</td>\n",
       "      <td>0.123333</td>\n",
       "      <td>10</td>\n",
       "    </tr>\n",
       "    <tr>\n",
       "      <th>3</th>\n",
       "      <td>0.125903</td>\n",
       "      <td>0.122256</td>\n",
       "      <td>0.125582</td>\n",
       "      <td>0.123162</td>\n",
       "      <td>0.122565</td>\n",
       "      <td>0.122018</td>\n",
       "      <td>0.124485</td>\n",
       "      <td>0.125027</td>\n",
       "      <td>15</td>\n",
       "    </tr>\n",
       "    <tr>\n",
       "      <th>4</th>\n",
       "      <td>0.123719</td>\n",
       "      <td>0.128365</td>\n",
       "      <td>0.121615</td>\n",
       "      <td>0.123504</td>\n",
       "      <td>0.119830</td>\n",
       "      <td>0.126062</td>\n",
       "      <td>0.123403</td>\n",
       "      <td>0.122291</td>\n",
       "      <td>20</td>\n",
       "    </tr>\n",
       "  </tbody>\n",
       "</table>\n",
       "</div>"
      ],
      "text/plain": [
       "          0         1         2         3         4         5         6  \\\n",
       "0  0.124086  0.123077  0.124692  0.123098  0.121993  0.120885  0.120650   \n",
       "1  0.125157  0.121047  0.119458  0.121360  0.123017  0.120512  0.123048   \n",
       "2  0.125133  0.125864  0.122109  0.126549  0.124533  0.121847  0.120396   \n",
       "3  0.125903  0.122256  0.125582  0.123162  0.122565  0.122018  0.124485   \n",
       "4  0.123719  0.128365  0.121615  0.123504  0.119830  0.126062  0.123403   \n",
       "\n",
       "          7  Time  \n",
       "0  0.122520     0  \n",
       "1  0.122855     5  \n",
       "2  0.123333    10  \n",
       "3  0.125027    15  \n",
       "4  0.122291    20  "
      ]
     },
     "execution_count": 5,
     "metadata": {},
     "output_type": "execute_result"
    }
   ],
   "source": [
    "data.head()"
   ]
  },
  {
   "cell_type": "code",
   "execution_count": 6,
   "metadata": {},
   "outputs": [
    {
     "data": {
      "text/plain": [
       "<matplotlib.axes._subplots.AxesSubplot at 0x23d355166a0>"
      ]
     },
     "execution_count": 6,
     "metadata": {},
     "output_type": "execute_result"
    },
    {
     "data": {
      "image/png": "[encoded data removed]",
      "text/plain": [
       "<Figure size 1800x720 with 2 Axes>"
      ]
     },
     "metadata": {},
     "output_type": "display_data"
    }
   ],
   "source": [
    "msno.matrix(data)"
   ]
  },
  {
   "cell_type": "code",
   "execution_count": 7,
   "metadata": {},
   "outputs": [
    {
     "data": {
      "text/plain": [
       "[Text(0.5,0,'Time (min)')]"
      ]
     },
     "execution_count": 7,
     "metadata": {},
     "output_type": "execute_result"
    },
    {
     "data": {
      "image/png": "[encoded data removed]",
      "text/plain": [
       "<Figure size 864x1584 with 8 Axes>"
      ]
     },
     "metadata": {},
     "output_type": "display_data"
    }
   ],
   "source": [
    "# draw plot of each signals\n",
    "sns.set(font_scale=1.25)\n",
    "style_kwds = {'xtick.major.size': 3, 'ytick.major.size': 3,\n",
    "              'legend.frameon': True}\n",
    "sns.set_style('white', style_kwds)\n",
    "\n",
    "fig, axs = plt.subplots(8, sharex=True, sharey=True, figsize=(12,22))\n",
    "colors = cm.rainbow(np.linspace(0, 1, 8))\n",
    "\n",
    "for i, (ax, color) in enumerate(zip(axs, colors)):\n",
    "    # use fancy indexing to plot data in each state\n",
    "    mask = data.Time == i\n",
    "    ax.plot(data.Time,\n",
    "            data[i],\n",
    "            c=color)\n",
    "    ax.set_title(\"{0}th signal\".format(i), fontsize=16, fontweight='demi')\n",
    "    plt.ticklabel_format(style='sci', axis='x', scilimits=(0,0))\n",
    "ax.set(xlabel='Time (min)')"
   ]
  },
  {
   "cell_type": "markdown",
   "metadata": {},
   "source": [
    "# Mixture of Gaussians"
   ]
  },
  {
   "cell_type": "code",
   "execution_count": 8,
   "metadata": {},
   "outputs": [],
   "source": [
    "import numpy as np\n",
    "import matplotlib.pyplot as plt\n",
    "import matplotlib.mlab as mlab"
   ]
  },
  {
   "cell_type": "code",
   "execution_count": 9,
   "metadata": {},
   "outputs": [],
   "source": [
    "from sklearn.mixture import GaussianMixture"
   ]
  },
  {
   "cell_type": "code",
   "execution_count": 10,
   "metadata": {},
   "outputs": [
    {
     "data": {
      "text/html": [
       "<div>\n",
       "<style scoped>\n",
       "    .dataframe tbody tr th:only-of-type {\n",
       "        vertical-align: middle;\n",
       "    }\n",
       "\n",
       "    .dataframe tbody tr th {\n",
       "        vertical-align: top;\n",
       "    }\n",
       "\n",
       "    .dataframe thead th {\n",
       "        text-align: right;\n",
       "    }\n",
       "</style>\n",
       "<table border=\"1\" class=\"dataframe\">\n",
       "  <thead>\n",
       "    <tr style=\"text-align: right;\">\n",
       "      <th></th>\n",
       "      <th>0</th>\n",
       "      <th>1</th>\n",
       "      <th>2</th>\n",
       "      <th>3</th>\n",
       "      <th>4</th>\n",
       "      <th>5</th>\n",
       "      <th>6</th>\n",
       "      <th>7</th>\n",
       "    </tr>\n",
       "  </thead>\n",
       "  <tbody>\n",
       "    <tr>\n",
       "      <th>0</th>\n",
       "      <td>0.124086</td>\n",
       "      <td>0.123077</td>\n",
       "      <td>0.124692</td>\n",
       "      <td>0.123098</td>\n",
       "      <td>0.121993</td>\n",
       "      <td>0.120885</td>\n",
       "      <td>0.120650</td>\n",
       "      <td>0.122520</td>\n",
       "    </tr>\n",
       "    <tr>\n",
       "      <th>1</th>\n",
       "      <td>0.125157</td>\n",
       "      <td>0.121047</td>\n",
       "      <td>0.119458</td>\n",
       "      <td>0.121360</td>\n",
       "      <td>0.123017</td>\n",
       "      <td>0.120512</td>\n",
       "      <td>0.123048</td>\n",
       "      <td>0.122855</td>\n",
       "    </tr>\n",
       "    <tr>\n",
       "      <th>2</th>\n",
       "      <td>0.125133</td>\n",
       "      <td>0.125864</td>\n",
       "      <td>0.122109</td>\n",
       "      <td>0.126549</td>\n",
       "      <td>0.124533</td>\n",
       "      <td>0.121847</td>\n",
       "      <td>0.120396</td>\n",
       "      <td>0.123333</td>\n",
       "    </tr>\n",
       "    <tr>\n",
       "      <th>3</th>\n",
       "      <td>0.125903</td>\n",
       "      <td>0.122256</td>\n",
       "      <td>0.125582</td>\n",
       "      <td>0.123162</td>\n",
       "      <td>0.122565</td>\n",
       "      <td>0.122018</td>\n",
       "      <td>0.124485</td>\n",
       "      <td>0.125027</td>\n",
       "    </tr>\n",
       "    <tr>\n",
       "      <th>4</th>\n",
       "      <td>0.123719</td>\n",
       "      <td>0.128365</td>\n",
       "      <td>0.121615</td>\n",
       "      <td>0.123504</td>\n",
       "      <td>0.119830</td>\n",
       "      <td>0.126062</td>\n",
       "      <td>0.123403</td>\n",
       "      <td>0.122291</td>\n",
       "    </tr>\n",
       "  </tbody>\n",
       "</table>\n",
       "</div>"
      ],
      "text/plain": [
       "          0         1         2         3         4         5         6  \\\n",
       "0  0.124086  0.123077  0.124692  0.123098  0.121993  0.120885  0.120650   \n",
       "1  0.125157  0.121047  0.119458  0.121360  0.123017  0.120512  0.123048   \n",
       "2  0.125133  0.125864  0.122109  0.126549  0.124533  0.121847  0.120396   \n",
       "3  0.125903  0.122256  0.125582  0.123162  0.122565  0.122018  0.124485   \n",
       "4  0.123719  0.128365  0.121615  0.123504  0.119830  0.126062  0.123403   \n",
       "\n",
       "          7  \n",
       "0  0.122520  \n",
       "1  0.122855  \n",
       "2  0.123333  \n",
       "3  0.125027  \n",
       "4  0.122291  "
      ]
     },
     "execution_count": 10,
     "metadata": {},
     "output_type": "execute_result"
    }
   ],
   "source": [
    "features = [0, 1, 2, 3, 4, 5, 6, 7]\n",
    "X = data[features]\n",
    "X.head()"
   ]
  },
  {
   "cell_type": "code",
   "execution_count": 11,
   "metadata": {},
   "outputs": [],
   "source": [
    "gmm = GaussianMixture(n_components=3).fit(X.values)\n",
    "states = gmm.predict(X.values)"
   ]
  },
  {
   "cell_type": "code",
   "execution_count": 12,
   "metadata": {},
   "outputs": [
    {
     "data": {
      "text/html": [
       "<div>\n",
       "<style scoped>\n",
       "    .dataframe tbody tr th:only-of-type {\n",
       "        vertical-align: middle;\n",
       "    }\n",
       "\n",
       "    .dataframe tbody tr th {\n",
       "        vertical-align: top;\n",
       "    }\n",
       "\n",
       "    .dataframe thead th {\n",
       "        text-align: right;\n",
       "    }\n",
       "</style>\n",
       "<table border=\"1\" class=\"dataframe\">\n",
       "  <thead>\n",
       "    <tr style=\"text-align: right;\">\n",
       "      <th></th>\n",
       "      <th>0</th>\n",
       "      <th>1</th>\n",
       "      <th>2</th>\n",
       "      <th>3</th>\n",
       "      <th>4</th>\n",
       "      <th>5</th>\n",
       "      <th>6</th>\n",
       "      <th>7</th>\n",
       "      <th>Time</th>\n",
       "      <th>states</th>\n",
       "    </tr>\n",
       "  </thead>\n",
       "  <tbody>\n",
       "    <tr>\n",
       "      <th>0</th>\n",
       "      <td>0.124086</td>\n",
       "      <td>0.123077</td>\n",
       "      <td>0.124692</td>\n",
       "      <td>0.123098</td>\n",
       "      <td>0.121993</td>\n",
       "      <td>0.120885</td>\n",
       "      <td>0.120650</td>\n",
       "      <td>0.122520</td>\n",
       "      <td>0</td>\n",
       "      <td>1</td>\n",
       "    </tr>\n",
       "    <tr>\n",
       "      <th>1</th>\n",
       "      <td>0.125157</td>\n",
       "      <td>0.121047</td>\n",
       "      <td>0.119458</td>\n",
       "      <td>0.121360</td>\n",
       "      <td>0.123017</td>\n",
       "      <td>0.120512</td>\n",
       "      <td>0.123048</td>\n",
       "      <td>0.122855</td>\n",
       "      <td>5</td>\n",
       "      <td>1</td>\n",
       "    </tr>\n",
       "    <tr>\n",
       "      <th>2</th>\n",
       "      <td>0.125133</td>\n",
       "      <td>0.125864</td>\n",
       "      <td>0.122109</td>\n",
       "      <td>0.126549</td>\n",
       "      <td>0.124533</td>\n",
       "      <td>0.121847</td>\n",
       "      <td>0.120396</td>\n",
       "      <td>0.123333</td>\n",
       "      <td>10</td>\n",
       "      <td>1</td>\n",
       "    </tr>\n",
       "    <tr>\n",
       "      <th>3</th>\n",
       "      <td>0.125903</td>\n",
       "      <td>0.122256</td>\n",
       "      <td>0.125582</td>\n",
       "      <td>0.123162</td>\n",
       "      <td>0.122565</td>\n",
       "      <td>0.122018</td>\n",
       "      <td>0.124485</td>\n",
       "      <td>0.125027</td>\n",
       "      <td>15</td>\n",
       "      <td>1</td>\n",
       "    </tr>\n",
       "    <tr>\n",
       "      <th>4</th>\n",
       "      <td>0.123719</td>\n",
       "      <td>0.128365</td>\n",
       "      <td>0.121615</td>\n",
       "      <td>0.123504</td>\n",
       "      <td>0.119830</td>\n",
       "      <td>0.126062</td>\n",
       "      <td>0.123403</td>\n",
       "      <td>0.122291</td>\n",
       "      <td>20</td>\n",
       "      <td>1</td>\n",
       "    </tr>\n",
       "  </tbody>\n",
       "</table>\n",
       "</div>"
      ],
      "text/plain": [
       "          0         1         2         3         4         5         6  \\\n",
       "0  0.124086  0.123077  0.124692  0.123098  0.121993  0.120885  0.120650   \n",
       "1  0.125157  0.121047  0.119458  0.121360  0.123017  0.120512  0.123048   \n",
       "2  0.125133  0.125864  0.122109  0.126549  0.124533  0.121847  0.120396   \n",
       "3  0.125903  0.122256  0.125582  0.123162  0.122565  0.122018  0.124485   \n",
       "4  0.123719  0.128365  0.121615  0.123504  0.119830  0.126062  0.123403   \n",
       "\n",
       "          7  Time  states  \n",
       "0  0.122520     0       1  \n",
       "1  0.122855     5       1  \n",
       "2  0.123333    10       1  \n",
       "3  0.125027    15       1  \n",
       "4  0.122291    20       1  "
      ]
     },
     "execution_count": 12,
     "metadata": {},
     "output_type": "execute_result"
    }
   ],
   "source": [
    "# add into dataframe\n",
    "data['states'] = states\n",
    "data.head()"
   ]
  },
  {
   "cell_type": "code",
   "execution_count": 13,
   "metadata": {},
   "outputs": [
    {
     "data": {
      "image/png": "[encoded data removed]",
      "text/plain": [
       "<Figure size 432x288 with 1 Axes>"
      ]
     },
     "metadata": {},
     "output_type": "display_data"
    }
   ],
   "source": [
    "plt.plot(data['Time'], data['states'])\n",
    "plt.xlabel('Time (min)')\n",
    "plt.ylabel('State')\n",
    "plt.ticklabel_format(style='sci', axis='x', scilimits=(0,0))\n",
    "plt.show()"
   ]
  },
  {
   "cell_type": "markdown",
   "metadata": {},
   "source": [
    "# Library https://github.com/aehuynh/hidden-markov-model/\n",
    "## Data observation sequence harus integer"
   ]
  },
  {
   "cell_type": "code",
   "execution_count": 14,
   "metadata": {},
   "outputs": [],
   "source": [
    "import numpy as np\n",
    "\n",
    "class HMM:\n",
    "    \"\"\"\n",
    "    Order 1 Hidden Markov Model\n",
    "    Attributes\n",
    "    -------|---\n",
    "    A : numpy.ndarray\n",
    "        State transition probability matrix\n",
    "    B: numpy.ndarray\n",
    "        Output emission probability matrix with shape(N, number of output types)\n",
    "    pi: numpy.ndarray\n",
    "        Initial state probablity vector\n",
    "    Common Variables\n",
    "    ----------------\n",
    "    obs_seq : list of int\n",
    "        list of observations (represented as ints corresponding to output\n",
    "        indexes in B) in order of appearance\n",
    "    T : int\n",
    "        number of observations in an observation sequence\n",
    "    N : int\n",
    "        number of states\n",
    "    \"\"\"\n",
    "\n",
    "    def __init__(self, A, B, pi):\n",
    "        self.A = A\n",
    "        self.B = B\n",
    "        self.pi = pi\n",
    "\n",
    "    def _forward(self, obs_seq):\n",
    "        N = self.A.shape[0]\n",
    "        T = len(obs_seq)\n",
    "\n",
    "        F = np.zeros((N,T))\n",
    "        print(obs_seq[0])\n",
    "        F[:,0] = self.pi * self.B[:, obs_seq[0]]\n",
    "\n",
    "        for t in range(1, T):\n",
    "            for n in range(N):\n",
    "                F[n,t] = np.dot(F[:,t-1], (self.A[:,n])) * self.B[n, obs_seq[t]]\n",
    "\n",
    "        return F\n",
    "\n",
    "    def _backward(self, obs_seq):\n",
    "        N = self.A.shape[0]\n",
    "        T = len(obs_seq)\n",
    "\n",
    "        X = np.zeros((N,T))\n",
    "        X[:,-1:] = 1\n",
    "\n",
    "        for t in reversed(range(T-1)):\n",
    "            for n in range(N):\n",
    "                X[n,t] = np.sum(X[:,t+1] * self.A[n,:] * self.B[:, obs_seq[t+1]])\n",
    "\n",
    "        return X\n",
    "\n",
    "    def observation_prob(self, obs_seq):\n",
    "        \"\"\" P( entire observation sequence | A, B, pi ) \"\"\"\n",
    "        return np.sum(self._forward(obs_seq)[:,-1])\n",
    "\n",
    "    def state_path(self, obs_seq):\n",
    "        \"\"\"\n",
    "        Returns\n",
    "        -------\n",
    "        V[last_state, -1] : float\n",
    "            Probability of the optimal state path\n",
    "        path : list(int)\n",
    "            Optimal state path for the observation sequence\n",
    "        \"\"\"\n",
    "        V, prev = self.viterbi(obs_seq)\n",
    "\n",
    "        # Build state path with greatest probability\n",
    "        last_state = np.argmax(V[:,-1])\n",
    "        path = list(self.build_viterbi_path(prev, last_state))\n",
    "\n",
    "        return V[last_state,-1], reversed(path)\n",
    "\n",
    "    def viterbi(self, obs_seq):\n",
    "        \"\"\"\n",
    "        Returns\n",
    "        -------\n",
    "        V : numpy.ndarray\n",
    "            V [s][t] = Maximum probability of an observation sequence ending\n",
    "                       at time 't' with final state 's'\n",
    "        prev : numpy.ndarray\n",
    "            Contains a pointer to the previous state at t-1 that maximizes\n",
    "            V[state][t]\n",
    "        \"\"\"\n",
    "        N = self.A.shape[0]\n",
    "        T = len(obs_seq)\n",
    "        prev = np.zeros((T - 1, N), dtype=int)\n",
    "\n",
    "        # DP matrix containing max likelihood of state at a given time\n",
    "        V = np.zeros((N, T))\n",
    "        V[:,0] = self.pi * self.B[:,obs_seq[0]]\n",
    "\n",
    "        for t in range(1, T):\n",
    "            for n in range(N):\n",
    "                seq_probs = V[:,t-1] * self.A[:,n] * self.B[n, obs_seq[t]]\n",
    "                prev[t-1,n] = np.argmax(seq_probs)\n",
    "                V[n,t] = np.max(seq_probs)\n",
    "\n",
    "        return V, prev\n",
    "\n",
    "    def build_viterbi_path(self, prev, last_state):\n",
    "        \"\"\"Returns a state path ending in last_state in reverse order.\"\"\"\n",
    "        T = len(prev)\n",
    "        yield(last_state)\n",
    "        for i in range(T-1, -1, -1):\n",
    "            yield(prev[i, last_state])\n",
    "            last_state = prev[i, last_state]\n",
    "\n",
    "    def baum_welch_train(self, obs_seq):\n",
    "        N = self.A.shape[0]\n",
    "        T = len(obs_seq)\n",
    "\n",
    "        forw = self._forward(obs_seq)\n",
    "        back = self._backward(obs_seq)\n",
    "\n",
    "        # P( entire observation sequence | A, B, pi )\n",
    "        obs_prob = np.sum(forw[:,-1])\n",
    "        if obs_prob <= 0:\n",
    "            raise ValueError(\"P(O | lambda) = 0. Cannot optimize!\")\n",
    "\n",
    "        xi = np.zeros((T-1, N, N))\n",
    "        for t in range(xi.shape[0]):\n",
    "            xi[t,:,:] = self.A * forw[:,[t]] * self.B[:,obs_seq[t+1]] * back[:, t+1] / obs_prob\n",
    "\n",
    "        gamma = forw * back / obs_prob\n",
    "\n",
    "        # Gamma sum excluding last column\n",
    "        gamma_sum_A = np.sum(gamma[:,:-1], axis=1, keepdims=True)\n",
    "        # Vector of binary values indicating whether a row in gamma_sum is 0.\n",
    "        # If a gamma_sum row is 0, save old rows on update\n",
    "        rows_to_keep_A =  (gamma_sum_A == 0)\n",
    "        # Convert all 0s to 1s to avoid division by zero\n",
    "        gamma_sum_A[gamma_sum_A == 0] = 1.\n",
    "        next_A = np.sum(xi, axis=0) / gamma_sum_A\n",
    "\n",
    "\n",
    "        gamma_sum_B = np.sum(gamma, axis=1, keepdims=True)\n",
    "        rows_to_keep_B = (gamma_sum_B == 0)\n",
    "        gamma_sum_B[gamma_sum_B == 0] = 1.\n",
    "\n",
    "        obs_mat = np.zeros((T, self.B.shape[1]))\n",
    "        obs_mat[range(T),obs_seq] = 1\n",
    "        next_B = np.dot(gamma, obs_mat) / gamma_sum_B\n",
    "\n",
    "        # Update model\n",
    "        self.A = self.A * rows_to_keep_A + next_A\n",
    "        self.B = self.B * rows_to_keep_B + next_B\n",
    "        self.pi = gamma[:,0] / np.sum(gamma[:,0])"
   ]
  },
  {
   "cell_type": "code",
   "execution_count": 15,
   "metadata": {},
   "outputs": [],
   "source": [
    "dat1 = list(data[0].values)"
   ]
  },
  {
   "cell_type": "code",
   "execution_count": 16,
   "metadata": {},
   "outputs": [],
   "source": [
    "n = 3 # number of states\n",
    "\n",
    "# pi initial probability\n",
    "pitmp = np.random.random_sample((n))\n",
    "pi = np.array(pitmp / sum(pitmp), dtype=np.double)\n",
    "\n",
    "# transition matrix\n",
    "atmp = np.random.random_sample((n, n))\n",
    "row_sums = atmp.sum(axis=1)\n",
    "A = np.array(atmp / row_sums[:, np.newaxis], dtype=np.double)\n",
    "\n",
    "# emmision matrix\n",
    "btmp = np.random.random_sample((n, 2156))\n",
    "row_sums = btmp.sum(axis=1)\n",
    "B = np.array(btmp / row_sums[:, np.newaxis], dtype=np.double)"
   ]
  },
  {
   "cell_type": "markdown",
   "metadata": {},
   "source": [
    "# Pomegranate"
   ]
  },
  {
   "cell_type": "code",
   "execution_count": 17,
   "metadata": {},
   "outputs": [],
   "source": [
    "from pomegranate import *"
   ]
  },
  {
   "cell_type": "code",
   "execution_count": 18,
   "metadata": {},
   "outputs": [],
   "source": [
    "from pomegranate import *\n",
    "\n",
    "sunny = State( DiscreteDistribution({'umbrella': 0.1, 'not': 0.9}), name='sunny' )\n",
    "rainy = State( DiscreteDistribution({'umbrella': 0.8, 'not': 0.2}), name='rainy' )\n",
    "foggy = State( DiscreteDistribution({'umbrella': 0.3, 'not': 0.7}), name='foggy' )\n",
    "\n",
    "model = HiddenMarkovModel()\n",
    "model.add_states(sunny, rainy, foggy)\n",
    "\n",
    "model.add_transition(model.start, sunny, 0.33)\n",
    "model.add_transition(model.start, rainy, 0.33)\n",
    "model.add_transition(model.start, foggy, 0.34)\n",
    "\n",
    "model.add_transition(sunny, sunny, 0.8)\n",
    "model.add_transition(sunny, rainy, 0.05)\n",
    "model.add_transition(sunny, foggy, 0.15)\n",
    "\n",
    "model.add_transition(rainy, sunny, 0,2)\n",
    "model.add_transition(rainy, rainy, 0.6)\n",
    "model.add_transition(rainy, foggy, 0.2)\n",
    "\n",
    "model.add_transition(foggy, sunny, 0.2)\n",
    "model.add_transition(foggy, rainy, 0.3)\n",
    "model.add_transition(foggy, foggy, 0.5)\n",
    "model.bake()"
   ]
  },
  {
   "cell_type": "code",
   "execution_count": 59,
   "metadata": {},
   "outputs": [
    {
     "name": "stdout",
     "output_type": "stream",
     "text": [
      "[1] Improvement: 32.76164321399869\tTime (s): 0.0\n",
      "[2] Improvement: 0.001987498409320665\tTime (s): 0.0009978\n",
      "[3] Improvement: 0.003393866538413448\tTime (s): 0.0009985\n",
      "[4] Improvement: 0.0061979235827998025\tTime (s): 0.0\n",
      "[5] Improvement: 0.01140683294132927\tTime (s): 0.0\n",
      "[6] Improvement: 0.02070586273549324\tTime (s): 0.0\n",
      "[7] Improvement: 0.03637774641621405\tTime (s): 0.0\n",
      "[8] Improvement: 0.060257411055729904\tTime (s): 0.0\n",
      "[9] Improvement: 0.09095308666048751\tTime (s): 0.0009966\n",
      "[10] Improvement: 0.12143455806106829\tTime (s): 0.0\n",
      "Total Training Improvement: 33.11435800039955\n",
      "Total Training Time (s): 0.0110\n",
      "transition matrix\n",
      "[[0.6707 0.3293]\n",
      " [0.5172 0.4828]]\n",
      "\n",
      "fb transitions\n",
      "[[5.9887 2.6497 0.     0.    ]\n",
      " [3.2804 3.0811 0.     0.    ]\n",
      " [0.0168 0.9832 0.     0.    ]\n",
      " [0.     0.     0.     0.    ]]\n",
      "\n",
      "fb emissions\n",
      "[[-4.0889 -0.0169]\n",
      " [-1.2137 -0.3525]\n",
      " [-0.6203 -0.7718]\n",
      " [-0.9672 -0.4783]\n",
      " [-0.5265 -0.8932]\n",
      " [-0.4414 -1.0303]\n",
      " [-0.2416 -1.5387]\n",
      " [-0.8742 -0.5399]\n",
      " [-0.5153 -0.9096]\n",
      " [-0.4298 -1.0517]\n",
      " [-0.187  -1.7688]\n",
      " [-0.1705 -1.8528]\n",
      " [-0.21   -1.6638]\n",
      " [-0.7987 -0.5977]\n",
      " [-0.2368 -1.5566]\n",
      " [-0.4347 -1.0426]]\n"
     ]
    }
   ],
   "source": [
    "import numpy as np\n",
    "from pomegranate import *\n",
    "\n",
    "seq = np.array([[1,1,2,1,2,2,3,1,2,2,3,3,3,1,3,2]])\n",
    "transmat = np.array([[0.6, 0.4], [0.5, 0.5]])\n",
    "start_probs = np.array([0.5, 0.5])\n",
    "\n",
    "states = [NormalDistribution(0,1), NormalDistribution(0,1)]\n",
    "\n",
    "model = HiddenMarkovModel.from_matrix(transmat, states, start_probs, merge = 'None')\n",
    "model.fit(seq, max_iterations=10, stop_threshold=1e-6, verbose=True)\n",
    "\n",
    "t, e = model.forward_backward(seq[0])\n",
    "\n",
    "print (\"transition matrix\")\n",
    "print (model.dense_transition_matrix()[:model.silent_start, :model.silent_start])\n",
    "print (\"\\nfb transitions\")\n",
    "print (t)\n",
    "print (\"\\nfb emissions\")\n",
    "print (e)"
   ]
  },
  {
   "cell_type": "code",
   "execution_count": 20,
   "metadata": {},
   "outputs": [
    {
     "name": "stdout",
     "output_type": "stream",
     "text": [
      "[ 1.7641  0.4002  0.9787  2.2409  1.8676 -0.9773  0.9501 -0.1514 -0.1032\n",
      "  0.4106]\n"
     ]
    }
   ],
   "source": [
    "import numpy; numpy.set_printoptions(suppress=True, precision=4)\n",
    "from pomegranate import *\n",
    "\n",
    "X = [numpy.random.randn(10) for i in range(100)]\n",
    "model = HiddenMarkovModel.from_samples(NormalDistribution, 3, X, max_iterations=5)\n",
    "\n",
    "print(X[0])\n",
    "# print(model.dense_transition_matrix()[model.start_index]) # start transitions\n",
    "# print(model.dense_transition_matrix()[:model.silent_start, :model.silent_start]) # transition matrix"
   ]
  },
  {
   "cell_type": "markdown",
   "metadata": {},
   "source": [
    "# NASA Bearing with Pomegranate"
   ]
  },
  {
   "cell_type": "code",
   "execution_count": 21,
   "metadata": {},
   "outputs": [
    {
     "name": "stdout",
     "output_type": "stream",
     "text": [
      "{0}\n"
     ]
    }
   ],
   "source": [
    "X = list(data[0])\n",
    "\n",
    "d1 = GeneralMixtureModel([NormalDistribution(5, 2), NormalDistribution(5, 4)])\n",
    "d2 = GeneralMixtureModel([NormalDistribution(15, 1), NormalDistribution(15, 5)])\n",
    "\n",
    "s1 = State(d1, name=\"GMM1\")\n",
    "s2 = State(d2, name=\"GMM2\")\n",
    "# print(d1)\n",
    "model = HiddenMarkovModel()\n",
    "model.add_states(s1, s2)\n",
    "model.add_transition(model.start, s1, 0.75)\n",
    "model.add_transition(model.start, s2, 0.25)\n",
    "model.add_transition(s1, s1, 0.85)\n",
    "model.add_transition(s1, s2, 0.15)\n",
    "model.add_transition(s2, s2, 0.90)\n",
    "model.add_transition(s2, s1, 0.10)\n",
    "model.bake()\n",
    "\n",
    "model.dense_transition_matrix()\n",
    "print(set(model.predict(X)))\n",
    "# print (model.predict_proba(X))"
   ]
  },
  {
   "cell_type": "code",
   "execution_count": 43,
   "metadata": {},
   "outputs": [],
   "source": [
    "from pomegranate import *\n",
    "dists = [NormalDistribution(0, 1), NormalDistribution(0, 1), NormalDistribution(0,1)]\n",
    "trans_mat = numpy.array([[0.7, 0.3, 0.0],\n",
    "                         [0.0, 0.8, 0.2],\n",
    "                         [0.0, 0.0, 0.9]])\n",
    "starts = numpy.array([1.0, 0.0, 0.0])\n",
    "ends = numpy.array([0.0, 0.0, 0.1])\n",
    "model = HiddenMarkovModel.from_matrix(trans_mat, dists, starts, ends)"
   ]
  },
  {
   "cell_type": "code",
   "execution_count": 44,
   "metadata": {},
   "outputs": [
    {
     "data": {
      "text/plain": [
       "array([1., 0., 0., 0., 0.])"
      ]
     },
     "execution_count": 44,
     "metadata": {},
     "output_type": "execute_result"
    }
   ],
   "source": [
    "model.dense_transition_matrix()[model.start_index]"
   ]
  },
  {
   "cell_type": "code",
   "execution_count": 24,
   "metadata": {},
   "outputs": [
    {
     "data": {
      "text/plain": [
       "array([[0.85, 0.15, 0.  , 0.  ],\n",
       "       [0.1 , 0.9 , 0.  , 0.  ],\n",
       "       [0.75, 0.25, 0.  , 0.  ],\n",
       "       [0.  , 0.  , 0.  , 0.  ]])"
      ]
     },
     "execution_count": 24,
     "metadata": {},
     "output_type": "execute_result"
    }
   ],
   "source": [
    "X = list(data[0])\n",
    "\n",
    "d1 = GeneralMixtureModel([NormalDistribution(5, 2), NormalDistribution(5, 4)])\n",
    "d2 = GeneralMixtureModel([NormalDistribution(15, 1), NormalDistribution(15, 5)])\n",
    "d3 = GeneralMixtureModel([NormalDistribution(15, 1), NormalDistribution(15, 5)])\n",
    "\n",
    "s1 = State(d1, name=\"GMM1\")\n",
    "s2 = State(d2, name=\"GMM2\")\n",
    "s3 = State(d3, name=\"GMM3\")\n",
    "# print(d1)\n",
    "model = HiddenMarkovModel()\n",
    "model.add_states(s1, s2)\n",
    "model.add_transition(model.start, s1, 0.75)\n",
    "model.add_transition(model.start, s2, 0.25)\n",
    "model.add_transition(s1, s1, 0.85)\n",
    "model.add_transition(s1, s2, 0.15)\n",
    "model.add_transition(s2, s2, 0.90)\n",
    "model.add_transition(s2, s1, 0.10)\n",
    "model.bake()\n",
    "\n",
    "model.dense_transition_matrix()"
   ]
  },
  {
   "cell_type": "code",
   "execution_count": 25,
   "metadata": {},
   "outputs": [],
   "source": [
    "import pomegranate"
   ]
  },
  {
   "cell_type": "code",
   "execution_count": 26,
   "metadata": {},
   "outputs": [],
   "source": [
    "def multivariate_gaussian_distribution_diag(num_mix, dim_feature):\n",
    "    \"\"\"multivariate gaussian diag covar\"\"\"\n",
    "    guassianDiag = []\n",
    "    for ii in range(dim_feature):\n",
    "        guassianDiag.append(pomegranate.distributions.NormalDistribution(np.random.normal(0.0, 1.0, 1)[0], 1.0))\n",
    "    return guassianDiag\n",
    "\n",
    "\n",
    "def create_mixture_diag_covar(n_mix, dim_feature):\n",
    "    \"\"\"diag covar mixture\"\"\"\n",
    "    mixtures = [pomegranate.distributions.IndependentComponentsDistribution(multivariate_gaussian_distribution_diag(i, dim_feature)) for i in range(n_mix)]\n",
    "    return mixtures\n",
    "\n",
    "\n",
    "def create_mixture_full_covar(n_mix, dim_feature):\n",
    "    \"\"\"full covar mixture\"\"\"\n",
    "    mixtures = [pomegranate.distributions.MultivariateGaussianDistribution(np.random.normal(0.0, 1.0, dim_feature),\n",
    "                                                                           np.identity(dim_feature)) for i in\n",
    "                range(n_mix)]\n",
    "    return mixtures\n",
    "\n",
    "\n",
    "def create_state(n_mix, dim_feature, name_phn, name_state, covar_type='full'):\n",
    "    \"\"\"full covar GMM\"\"\"\n",
    "    if covar_type == 'full':\n",
    "        mixtures = create_mixture_full_covar(n_mix=n_mix, dim_feature=dim_feature)\n",
    "    elif covar_type == 'diag':\n",
    "        mixtures = create_mixture_diag_covar(n_mix=n_mix, dim_feature=dim_feature)\n",
    "    else:\n",
    "        raise ValueError(\"{} is not a valid covar type.\".format(covar_type))\n",
    "\n",
    "    state = pomegranate.State(pomegranate.GeneralMixtureModel(mixtures), name=name_phn + name_state)\n",
    "    return state\n",
    "\n",
    "\n",
    "def create_hmm(n_mix, dim_feature, name_phn, covar_type='full'):\n",
    "    # Create model with 3 states\n",
    "    # Left-to-right: each state is connected to itself and its direct successor\n",
    "\n",
    "    state_0 = create_state(n_mix=n_mix,\n",
    "                           dim_feature=dim_feature,\n",
    "                           name_phn=name_phn,\n",
    "                           name_state='-first',\n",
    "                           covar_type=covar_type)\n",
    "    state_1 = create_state(n_mix=n_mix,\n",
    "                           dim_feature=dim_feature,\n",
    "                           name_phn=name_phn,\n",
    "                           name_state='-mid',\n",
    "                           covar_type=covar_type)\n",
    "    state_2 = create_state(n_mix=n_mix,\n",
    "                           dim_feature=dim_feature,\n",
    "                           name_phn=name_phn,\n",
    "                           name_state='-last',\n",
    "                           covar_type=covar_type)\n",
    "\n",
    "    model = pomegranate.HiddenMarkovModel(name_phn)\n",
    "\n",
    "    model.add_state(state_0)\n",
    "    model.add_state(state_1)\n",
    "    model.add_state(state_2)\n",
    "\n",
    "    model.add_transition(model.start, state_0, 1.0)\n",
    "    model.add_transition(state_0, state_0, 0.5)\n",
    "    model.add_transition(state_0, state_1, 0.5)\n",
    "    model.add_transition(state_1, state_1, 0.5)\n",
    "    model.add_transition(state_1, state_2, 0.5)\n",
    "    model.add_transition(state_2, state_2, 0.5)\n",
    "    model.add_transition(state_2, model.end, 0.5)\n",
    "\n",
    "    model.bake()\n",
    "    return model"
   ]
  },
  {
   "cell_type": "code",
   "execution_count": 27,
   "metadata": {},
   "outputs": [],
   "source": [
    "moghmm = create_hmm(n_mix=2, dim_feature=1, name_phn='a')"
   ]
  },
  {
   "cell_type": "code",
   "execution_count": 28,
   "metadata": {},
   "outputs": [
    {
     "data": {
      "text/plain": [
       "array([[0.5, 0. ],\n",
       "       [0. , 0.5]])"
      ]
     },
     "execution_count": 28,
     "metadata": {},
     "output_type": "execute_result"
    }
   ],
   "source": [
    "moghmm.dense_transition_matrix()[:model.silent_start, :model.silent_start]"
   ]
  },
  {
   "cell_type": "code",
   "execution_count": 34,
   "metadata": {},
   "outputs": [
    {
     "name": "stdout",
     "output_type": "stream",
     "text": [
      "(200, 10, 104)\n",
      "----------\n",
      "Custom Seq\n",
      "----------\n"
     ]
    }
   ],
   "source": [
    "from pomegranate import *\n",
    "from pomegranate import MultivariateGaussianDistribution as MGD\n",
    "import numpy as np\n",
    "\n",
    "n = 104\n",
    "\n",
    "def create_hmm():\n",
    "    # Create model with 3 states\n",
    "    # Left-to-right: each state is connected to itself and its direct successor\n",
    "    model = HiddenMarkovModel()\n",
    "    mixtures = [MGD(np.random.randn(n) + i, np.identity(n)) for i in range(4) ]\n",
    "#     print(mixtures)\n",
    "    midState = State(GeneralMixtureModel(mixtures), name=\"mid\")\n",
    "\n",
    "    model.add_state(midState)\n",
    "\n",
    "    model.add_transition( model.start, midState, 1.0 )\n",
    "    model.add_transition( midState, midState, 0.8 )\n",
    "    model.add_transition( midState, model.end, 0.2 )\n",
    "\n",
    "    model.bake()\n",
    "    return model\n",
    "\n",
    "sequences = [ numpy.random.randn(10, n) + i % 4 for i in range(200) ]\n",
    "\n",
    "print(np.shape(sequences))\n",
    "model = create_hmm()\n",
    "print(\"----------\")\n",
    "print(\"Custom Seq\")\n",
    "print(\"----------\")\n",
    "# model.fit(sequences)\n",
    "\n",
    "# print (model.sample())"
   ]
  },
  {
   "cell_type": "code",
   "execution_count": 35,
   "metadata": {},
   "outputs": [],
   "source": [
    "from pomegranate import *"
   ]
  },
  {
   "cell_type": "code",
   "execution_count": 58,
   "metadata": {},
   "outputs": [
    {
     "name": "stdout",
     "output_type": "stream",
     "text": [
      "transition matrix\n",
      "[[0.6 0.2 0.2]\n",
      " [0.5 0.3 0.2]\n",
      " [0.1 0.6 0.3]]\n",
      "pi\n",
      "[0.5 0.3 0.2]\n",
      "(2156, 3)\n"
     ]
    }
   ],
   "source": [
    "import numpy as np\n",
    "from pomegranate import *\n",
    "\n",
    "seq = [data[0].values]\n",
    "transmat = np.array([[0.6, 0.2, 0.2], [0.5, 0.3, 0.2], [0.1, 0.6, 0.3]])\n",
    "start_probs = np.array([0.5, 0.3, 0.2])\n",
    "\n",
    "states = [NormalDistribution(0,1), NormalDistribution(0,1), NormalDistribution(0,1)]\n",
    "\n",
    "model = HiddenMarkovModel.from_matrix(transmat, states, start_probs, merge = 'None')\n",
    "# model.fit(seq, max_iterations=1000, stop_threshold=1e-6, verbose=True)\n",
    "\n",
    "emmision, transition = model.forward_backward(seq[0])\n",
    "\n",
    "print(\"transition matrix\")\n",
    "print(model.dense_transition_matrix()[:model.silent_start, :model.silent_start])\n",
    "print(\"pi\")\n",
    "print(model.dense_transition_matrix()[model.start_index, :model.silent_start])\n",
    "print(np.shape(transition))\n",
    "# print(transition)"
   ]
  },
  {
   "cell_type": "code",
   "execution_count": 47,
   "metadata": {},
   "outputs": [
    {
     "name": "stdout",
     "output_type": "stream",
     "text": [
      "[[1 1 2 1 2 2 3 1 2 2 3 3 3 1 3 2]]\n"
     ]
    }
   ],
   "source": [
    "seq = np.array([[1,1,2,1,2,2,3,1,2,2,3,3,3,1,3,2]])\n",
    "print(seq)"
   ]
  },
  {
   "cell_type": "code",
   "execution_count": null,
   "metadata": {},
   "outputs": [],
   "source": []
  }
 ],
 "metadata": {
  "kernelspec": {
   "display_name": "Python 3",
   "language": "python",
   "name": "python3"
  },
  "language_info": {
   "codemirror_mode": {
    "name": "ipython",
    "version": 3
   },
   "file_extension": ".py",
   "mimetype": "text/x-python",
   "name": "python",
   "nbconvert_exporter": "python",
   "pygments_lexer": "ipython3",
   "version": "3.6.5"
  }
 },
 "nbformat": 4,
 "nbformat_minor": 2
}
