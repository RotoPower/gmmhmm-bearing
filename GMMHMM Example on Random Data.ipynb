{
 "cells": [
  {
   "cell_type": "code",
   "execution_count": 1,
   "metadata": {},
   "outputs": [],
   "source": [
    "from hmm.continuous.GMHMM import GMHMM\n",
    "from hmm.discrete.DiscreteHMM import DiscreteHMM\n",
    "import numpy as np"
   ]
  },
  {
   "cell_type": "markdown",
   "metadata": {},
   "source": [
    "Model attributes:\n",
    "   - n            : number of hidden states\n",
    "   - m            : number of mixtures in each state (each 'symbol' like in the discrete case points to a mixture)\n",
    "   - d            : number of features (an observation can contain multiple features)\n",
    "   - A            : hidden states transition probability matrix ([NxN] numpy array)\n",
    "   - means        : means of the different mixtures ([NxMxD] numpy array)\n",
    "   - covars       : covars of the different mixtures ([NxM] array of [DxD] covar matrices)\n",
    "   - w            : weighing of each state's mixture components ([NxM] numpy array)\n",
    "   - pi           : initial state's PMF ([N] numpy array)."
   ]
  },
  {
   "cell_type": "code",
   "execution_count": 2,
   "metadata": {},
   "outputs": [],
   "source": [
    "N = 5 # number of hidden states\n",
    "M = 4 # number of mixtures in each state\n",
    "D = 2 # number of features (a observation can contain multiple features)"
   ]
  },
  {
   "cell_type": "code",
   "execution_count": 4,
   "metadata": {},
   "outputs": [
    {
     "name": "stdout",
     "output_type": "stream",
     "text": [
      "Transition Matrix A [NxN]\n",
      "[[0.38055872 0.15927289 0.12462602 0.16143003 0.17411234]\n",
      " [0.25548645 0.28316931 0.00119979 0.26341321 0.19673124]\n",
      " [0.30025526 0.06599526 0.04790385 0.36833476 0.21751088]\n",
      " [0.33796575 0.35701067 0.01897527 0.10028393 0.18576438]\n",
      " [0.13862223 0.43333641 0.21601035 0.02233762 0.18969339]]\n"
     ]
    }
   ],
   "source": [
    "atmp = np.random.random_sample((N, N))\n",
    "row_sums = atmp.sum(axis=1)\n",
    "A = np.array(atmp / row_sums[:, np.newaxis], dtype=np.double)\n",
    "print(\"Transition Matrix A [NxN]\")\n",
    "print(A)"
   ]
  },
  {
   "cell_type": "code",
   "execution_count": 5,
   "metadata": {},
   "outputs": [
    {
     "name": "stdout",
     "output_type": "stream",
     "text": [
      "Weight of each state's mixture components [NxM]\n",
      "[[0.35872207 0.37179468 0.02067748 0.24880577]\n",
      " [0.61782712 0.25972863 0.04587088 0.07657337]\n",
      " [0.19716574 0.47988399 0.08669536 0.23625491]\n",
      " [0.45927324 0.04540421 0.30067305 0.19464951]\n",
      " [0.43288784 0.08670828 0.39508369 0.0853202 ]]\n"
     ]
    }
   ],
   "source": [
    "wtmp = np.random.random_sample((N, M))\n",
    "row_sums = wtmp.sum(axis=1)\n",
    "w = np.array(wtmp / row_sums[:, np.newaxis], dtype=np.double)\n",
    "print(\"Weight of each state's mixture components [NxM]\")\n",
    "print(w)"
   ]
  },
  {
   "cell_type": "code",
   "execution_count": 6,
   "metadata": {},
   "outputs": [
    {
     "name": "stdout",
     "output_type": "stream",
     "text": [
      "Means of the different mixtures [NxMxD]\n",
      "[[[ 0.02134323  0.04263977]\n",
      "  [-0.20614765 -0.09773459]\n",
      "  [-0.24270881 -0.220104  ]\n",
      "  [ 0.15540907  0.03027637]]\n",
      "\n",
      " [[ 0.03938439 -0.08310588]\n",
      "  [ 0.11461906 -0.19714286]\n",
      "  [ 0.29634035 -0.18669578]\n",
      "  [-0.24842522  0.03906607]]\n",
      "\n",
      " [[ 0.06914688 -0.16093834]\n",
      "  [ 0.19297982 -0.11721102]\n",
      "  [ 0.01735768 -0.14250086]\n",
      "  [ 0.23359579 -0.17218666]]\n",
      "\n",
      " [[-0.04482052 -0.12365444]\n",
      "  [ 0.03405649  0.14317221]\n",
      "  [ 0.16455883  0.16537114]\n",
      "  [-0.20947983  0.25575957]]\n",
      "\n",
      " [[ 0.03285289  0.18923295]\n",
      "  [-0.24077243 -0.0948618 ]\n",
      "  [ 0.00423223 -0.22171985]\n",
      "  [-0.26077704 -0.29293943]]]\n"
     ]
    }
   ],
   "source": [
    "means = np.array((0.6 * np.random.random_sample((N, M, D)) - 0.3), dtype=np.double)\n",
    "print(\"Means of the different mixtures [NxMxD]\")\n",
    "print(means)"
   ]
  },
  {
   "cell_type": "code",
   "execution_count": 9,
   "metadata": {},
   "outputs": [
    {
     "name": "stdout",
     "output_type": "stream",
     "text": [
      "Covars of the different mixtures ([NxM] array of [DxD] covar matrices)\n",
      "[[[[1. 0.]\n",
      "   [0. 1.]]\n",
      "\n",
      "  [[1. 0.]\n",
      "   [0. 1.]]\n",
      "\n",
      "  [[1. 0.]\n",
      "   [0. 1.]]\n",
      "\n",
      "  [[1. 0.]\n",
      "   [0. 1.]]]\n",
      "\n",
      "\n",
      " [[[1. 0.]\n",
      "   [0. 1.]]\n",
      "\n",
      "  [[1. 0.]\n",
      "   [0. 1.]]\n",
      "\n",
      "  [[1. 0.]\n",
      "   [0. 1.]]\n",
      "\n",
      "  [[1. 0.]\n",
      "   [0. 1.]]]\n",
      "\n",
      "\n",
      " [[[1. 0.]\n",
      "   [0. 1.]]\n",
      "\n",
      "  [[1. 0.]\n",
      "   [0. 1.]]\n",
      "\n",
      "  [[1. 0.]\n",
      "   [0. 1.]]\n",
      "\n",
      "  [[1. 0.]\n",
      "   [0. 1.]]]\n",
      "\n",
      "\n",
      " [[[1. 0.]\n",
      "   [0. 1.]]\n",
      "\n",
      "  [[1. 0.]\n",
      "   [0. 1.]]\n",
      "\n",
      "  [[1. 0.]\n",
      "   [0. 1.]]\n",
      "\n",
      "  [[1. 0.]\n",
      "   [0. 1.]]]\n",
      "\n",
      "\n",
      " [[[1. 0.]\n",
      "   [0. 1.]]\n",
      "\n",
      "  [[1. 0.]\n",
      "   [0. 1.]]\n",
      "\n",
      "  [[1. 0.]\n",
      "   [0. 1.]]\n",
      "\n",
      "  [[1. 0.]\n",
      "   [0. 1.]]]]\n"
     ]
    }
   ],
   "source": [
    "covars = np.zeros((N,M,D,D))\n",
    "\n",
    "for i in range(N):\n",
    "    for j in range(M):\n",
    "        for k in range(D):\n",
    "            covars[i][j][k][k] = 1\n",
    "print(\"Covars of the different mixtures ([NxM] array of [DxD] covar matrices)\")            \n",
    "print(covars)"
   ]
  },
  {
   "cell_type": "code",
   "execution_count": 12,
   "metadata": {},
   "outputs": [
    {
     "name": "stdout",
     "output_type": "stream",
     "text": [
      "initial state\n",
      "[0.3459891  0.26348043 0.09045033 0.09667524 0.20340491]\n"
     ]
    }
   ],
   "source": [
    "pitmp = np.random.random_sample((N))\n",
    "pi = np.array(pitmp / sum(pitmp), dtype=np.double)\n",
    "print(\"initial state\")\n",
    "print(pi)"
   ]
  },
  {
   "cell_type": "code",
   "execution_count": 14,
   "metadata": {},
   "outputs": [
    {
     "name": "stdout",
     "output_type": "stream",
     "text": [
      "<hmm.continuous.GMHMM.GMHMM object at 0x0000023A75F1C6D8>\n"
     ]
    }
   ],
   "source": [
    "# initialization\n",
    "gmmhmm = GMHMM(N, M, D, A, means, covars, w, pi, init_type='user', verbose=True)\n",
    "print(gmmhmm)"
   ]
  },
  {
   "cell_type": "code",
   "execution_count": 17,
   "metadata": {},
   "outputs": [
    {
     "name": "stdout",
     "output_type": "stream",
     "text": [
      "(40, 2)\n"
     ]
    }
   ],
   "source": [
    "# observation matrix\n",
    "obs = np.array((0.6 * np.random.random_sample((40, D)) - 0.3), dtype=np.double)\n",
    "print(obs.shape)"
   ]
  },
  {
   "cell_type": "code",
   "execution_count": 18,
   "metadata": {},
   "outputs": [
    {
     "name": "stdout",
     "output_type": "stream",
     "text": [
      "Doing Baum-welch\n",
      "iter:  0 , L(model|O) = -75.43719114059516 , L(model_new|O) = 22.606341028175237 , converging = True\n",
      "iter:  1 , L(model|O) = 22.606341028175237 , L(model_new|O) = 28.22706458615942 , converging = True\n",
      "iter:  2 , L(model|O) = 28.22706458615942 , L(model_new|O) = 28.222077699586258 , converging = False\n",
      "iter:  3 , L(model|O) = 28.222077699586258 , L(model_new|O) = 28.220644752256007 , converging = False\n",
      "iter:  4 , L(model|O) = 28.220644752256007 , L(model_new|O) = 28.22754746538727 , converging = True\n",
      "iter:  5 , L(model|O) = 28.22754746538727 , L(model_new|O) = 28.24158517934619 , converging = True\n",
      "iter:  6 , L(model|O) = 28.24158517934619 , L(model_new|O) = 28.2627585276684 , converging = True\n",
      "iter:  7 , L(model|O) = 28.2627585276684 , L(model_new|O) = 28.29172077518208 , converging = True\n",
      "iter:  8 , L(model|O) = 28.29172077518208 , L(model_new|O) = 28.329302027775324 , converging = True\n",
      "iter:  9 , L(model|O) = 28.329302027775324 , L(model_new|O) = 28.376100900159148 , converging = True\n",
      "iter:  10 , L(model|O) = 28.376100900159148 , L(model_new|O) = 28.43211426916387 , converging = True\n",
      "iter:  11 , L(model|O) = 28.43211426916387 , L(model_new|O) = 28.496479900505328 , converging = True\n",
      "iter:  12 , L(model|O) = 28.496479900505328 , L(model_new|O) = 28.567477907317535 , converging = True\n",
      "iter:  13 , L(model|O) = 28.567477907317535 , L(model_new|O) = 28.642914289045628 , converging = True\n",
      "iter:  14 , L(model|O) = 28.642914289045628 , L(model_new|O) = 28.72083838869473 , converging = True\n",
      "iter:  15 , L(model|O) = 28.72083838869473 , L(model_new|O) = 28.800306845739815 , converging = True\n",
      "iter:  16 , L(model|O) = 28.800306845739815 , L(model_new|O) = 28.88184108477325 , converging = True\n",
      "iter:  17 , L(model|O) = 28.88184108477325 , L(model_new|O) = 28.967451379972058 , converging = True\n",
      "iter:  18 , L(model|O) = 28.967451379972058 , L(model_new|O) = 29.06039605345078 , converging = True\n",
      "iter:  19 , L(model|O) = 29.06039605345078 , L(model_new|O) = 29.1649282243484 , converging = True\n",
      "iter:  20 , L(model|O) = 29.1649282243484 , L(model_new|O) = 29.28614311867922 , converging = True\n",
      "iter:  21 , L(model|O) = 29.28614311867922 , L(model_new|O) = 29.429828834943574 , converging = True\n",
      "iter:  22 , L(model|O) = 29.429828834943574 , L(model_new|O) = 29.60202526026003 , converging = True\n",
      "iter:  23 , L(model|O) = 29.60202526026003 , L(model_new|O) = 29.807827806774377 , converging = True\n",
      "iter:  24 , L(model|O) = 29.807827806774377 , L(model_new|O) = 30.04900630304405 , converging = True\n",
      "iter:  25 , L(model|O) = 30.04900630304405 , L(model_new|O) = 30.320778497261184 , converging = True\n",
      "iter:  26 , L(model|O) = 30.320778497261184 , L(model_new|O) = 30.610003767485342 , converging = True\n",
      "iter:  27 , L(model|O) = 30.610003767485342 , L(model_new|O) = 30.898480547843494 , converging = True\n",
      "iter:  28 , L(model|O) = 30.898480547843494 , L(model_new|O) = 31.17180660277199 , converging = True\n",
      "iter:  29 , L(model|O) = 31.17180660277199 , L(model_new|O) = 31.427298664839956 , converging = True\n",
      "iter:  30 , L(model|O) = 31.427298664839956 , L(model_new|O) = 31.673720313778684 , converging = True\n",
      "iter:  31 , L(model|O) = 31.673720313778684 , L(model_new|O) = 31.92336675252364 , converging = True\n",
      "iter:  32 , L(model|O) = 31.92336675252364 , L(model_new|O) = 32.18241324752119 , converging = True\n",
      "iter:  33 , L(model|O) = 32.18241324752119 , L(model_new|O) = 32.445109380900625 , converging = True\n",
      "iter:  34 , L(model|O) = 32.445109380900625 , L(model_new|O) = 32.69593129674102 , converging = True\n",
      "iter:  35 , L(model|O) = 32.69593129674102 , L(model_new|O) = 32.91858498594451 , converging = True\n",
      "iter:  36 , L(model|O) = 32.91858498594451 , L(model_new|O) = 33.10371161129677 , converging = True\n",
      "iter:  37 , L(model|O) = 33.10371161129677 , L(model_new|O) = 33.249897980540275 , converging = True\n",
      "iter:  38 , L(model|O) = 33.249897980540275 , L(model_new|O) = 33.36074614002163 , converging = True\n",
      "iter:  39 , L(model|O) = 33.36074614002163 , L(model_new|O) = 33.442034057998704 , converging = True\n",
      "iter:  40 , L(model|O) = 33.442034057998704 , L(model_new|O) = 33.500045795558236 , converging = True\n",
      "iter:  41 , L(model|O) = 33.500045795558236 , L(model_new|O) = 33.540693241437026 , converging = True\n",
      "iter:  42 , L(model|O) = 33.540693241437026 , L(model_new|O) = 33.56907035284887 , converging = True\n",
      "iter:  43 , L(model|O) = 33.56907035284887 , L(model_new|O) = 33.589285354729085 , converging = True\n",
      "iter:  44 , L(model|O) = 33.589285354729085 , L(model_new|O) = 33.60448004048461 , converging = True\n",
      "iter:  45 , L(model|O) = 33.60448004048461 , L(model_new|O) = 33.61695394172509 , converging = True\n",
      "iter:  46 , L(model|O) = 33.61695394172509 , L(model_new|O) = 33.628326758620204 , converging = True\n",
      "iter:  47 , L(model|O) = 33.628326758620204 , L(model_new|O) = 33.63969722606613 , converging = True\n",
      "iter:  48 , L(model|O) = 33.63969722606613 , L(model_new|O) = 33.6517790224319 , converging = True\n",
      "iter:  49 , L(model|O) = 33.6517790224319 , L(model_new|O) = 33.66500903445684 , converging = True\n",
      "iter:  50 , L(model|O) = 33.66500903445684 , L(model_new|O) = 33.67963077116392 , converging = True\n",
      "iter:  51 , L(model|O) = 33.67963077116392 , L(model_new|O) = 33.69575838799291 , converging = True\n",
      "iter:  52 , L(model|O) = 33.69575838799291 , L(model_new|O) = 33.71342681176987 , converging = True\n",
      "iter:  53 , L(model|O) = 33.71342681176987 , L(model_new|O) = 33.73263227259844 , converging = True\n",
      "iter:  54 , L(model|O) = 33.73263227259844 , L(model_new|O) = 33.753365985932156 , converging = True\n",
      "iter:  55 , L(model|O) = 33.753365985932156 , L(model_new|O) = 33.77564227735586 , converging = True\n",
      "iter:  56 , L(model|O) = 33.77564227735586 , L(model_new|O) = 33.799521396121605 , converging = True\n",
      "iter:  57 , L(model|O) = 33.799521396121605 , L(model_new|O) = 33.825126762624286 , converging = True\n",
      "iter:  58 , L(model|O) = 33.825126762624286 , L(model_new|O) = 33.852656432909185 , converging = True\n",
      "iter:  59 , L(model|O) = 33.852656432909185 , L(model_new|O) = 33.88238899693986 , converging = True\n",
      "iter:  60 , L(model|O) = 33.88238899693986 , L(model_new|O) = 33.9146847255396 , converging = True\n",
      "iter:  61 , L(model|O) = 33.9146847255396 , L(model_new|O) = 33.94998330012599 , converging = True\n",
      "iter:  62 , L(model|O) = 33.94998330012599 , L(model_new|O) = 33.98879971702255 , converging = True\n",
      "iter:  63 , L(model|O) = 33.98879971702255 , L(model_new|O) = 34.03171987458886 , converging = True\n",
      "iter:  64 , L(model|O) = 34.03171987458886 , L(model_new|O) = 34.079396950310134 , converging = True\n",
      "iter:  65 , L(model|O) = 34.079396950310134 , L(model_new|O) = 34.132549053011886 , converging = True\n",
      "iter:  66 , L(model|O) = 34.132549053011886 , L(model_new|O) = 34.1919579224991 , converging = True\n",
      "iter:  67 , L(model|O) = 34.1919579224991 , L(model_new|O) = 34.25846777840255 , converging = True\n",
      "iter:  68 , L(model|O) = 34.25846777840255 , L(model_new|O) = 34.33298291764351 , converging = True\n",
      "iter:  69 , L(model|O) = 34.33298291764351 , L(model_new|O) = 34.416462451857825 , converging = True\n",
      "iter:  70 , L(model|O) = 34.416462451857825 , L(model_new|O) = 34.50991080588979 , converging = True\n",
      "iter:  71 , L(model|O) = 34.50991080588979 , L(model_new|O) = 34.61436343897022 , converging = True\n",
      "iter:  72 , L(model|O) = 34.61436343897022 , L(model_new|O) = 34.73086889848722 , converging = True\n",
      "iter:  73 , L(model|O) = 34.73086889848722 , L(model_new|O) = 34.8604709770107 , converging = True\n",
      "iter:  74 , L(model|O) = 34.8604709770107 , L(model_new|O) = 35.004198650833324 , converging = True\n",
      "iter:  75 , L(model|O) = 35.004198650833324 , L(model_new|O) = 35.163077072704674 , converging = True\n",
      "iter:  76 , L(model|O) = 35.163077072704674 , L(model_new|O) = 35.338181297030545 , converging = True\n",
      "iter:  77 , L(model|O) = 35.338181297030545 , L(model_new|O) = 35.53076825031642 , converging = True\n",
      "iter:  78 , L(model|O) = 35.53076825031642 , L(model_new|O) = 35.7425464957201 , converging = True\n",
      "iter:  79 , L(model|O) = 35.7425464957201 , L(model_new|O) = 35.9761830534776 , converging = True\n",
      "iter:  80 , L(model|O) = 35.9761830534776 , L(model_new|O) = 36.236197624499084 , converging = True\n",
      "iter:  81 , L(model|O) = 36.236197624499084 , L(model_new|O) = 36.53039909742426 , converging = True\n",
      "iter:  82 , L(model|O) = 36.53039909742426 , L(model_new|O) = 36.87171521316194 , converging = True\n",
      "iter:  83 , L(model|O) = 36.87171521316194 , L(model_new|O) = 37.278825455279545 , converging = True\n"
     ]
    },
    {
     "name": "stdout",
     "output_type": "stream",
     "text": [
      "iter:  84 , L(model|O) = 37.278825455279545 , L(model_new|O) = 37.77006009805424 , converging = True\n",
      "iter:  85 , L(model|O) = 37.77006009805424 , L(model_new|O) = 38.34150183970945 , converging = True\n",
      "iter:  86 , L(model|O) = 38.34150183970945 , L(model_new|O) = 38.936942779698306 , converging = True\n",
      "iter:  87 , L(model|O) = 38.936942779698306 , L(model_new|O) = 39.459213503064014 , converging = True\n",
      "iter:  88 , L(model|O) = 39.459213503064014 , L(model_new|O) = 39.839362162768005 , converging = True\n",
      "iter:  89 , L(model|O) = 39.839362162768005 , L(model_new|O) = 40.07608496951907 , converging = True\n",
      "iter:  90 , L(model|O) = 40.07608496951907 , L(model_new|O) = 40.20785298461716 , converging = True\n",
      "iter:  91 , L(model|O) = 40.20785298461716 , L(model_new|O) = 40.275494616716394 , converging = True\n",
      "iter:  92 , L(model|O) = 40.275494616716394 , L(model_new|O) = 40.307571882088226 , converging = True\n",
      "iter:  93 , L(model|O) = 40.307571882088226 , L(model_new|O) = 40.32090032454848 , converging = True\n",
      "iter:  94 , L(model|O) = 40.32090032454848 , L(model_new|O) = 40.32469086348787 , converging = True\n",
      "iter:  95 , L(model|O) = 40.32469086348787 , L(model_new|O) = 40.3238552880643 , converging = True\n",
      "iter:  96 , L(model|O) = 40.3238552880643 , L(model_new|O) = 40.320980074889874 , converging = False\n",
      "iter:  97 , L(model|O) = 40.320980074889874 , L(model_new|O) = 40.317404765655596 , converging = False\n",
      "iter:  98 , L(model|O) = 40.317404765655596 , L(model_new|O) = 40.313799545030655 , converging = False\n",
      "iter:  99 , L(model|O) = 40.313799545030655 , L(model_new|O) = 40.31047592205267 , converging = False\n",
      "iter:  100 , L(model|O) = 40.31047592205267 , L(model_new|O) = 40.307555424527436 , converging = False\n",
      "iter:  101 , L(model|O) = 40.307555424527436 , L(model_new|O) = 40.30506177744115 , converging = False\n",
      "iter:  102 , L(model|O) = 40.30506177744115 , L(model_new|O) = 40.302971241216 , converging = False\n",
      "iter:  103 , L(model|O) = 40.302971241216 , L(model_new|O) = 40.301239816137446 , converging = False\n",
      "iter:  104 , L(model|O) = 40.301239816137446 , L(model_new|O) = 40.299817586166554 , converging = False\n",
      "iter:  105 , L(model|O) = 40.299817586166554 , L(model_new|O) = 40.29865592390859 , converging = False\n",
      "iter:  106 , L(model|O) = 40.29865592390859 , L(model_new|O) = 40.297710772560336 , converging = True\n",
      "iter:  107 , L(model|O) = 40.297710772560336 , L(model_new|O) = 40.296943818638084 , converging = True\n",
      "iter:  108 , L(model|O) = 40.296943818638084 , L(model_new|O) = 40.29632257588164 , converging = True\n",
      "iter:  109 , L(model|O) = 40.29632257588164 , L(model_new|O) = 40.29581994874503 , converging = True\n",
      "iter:  110 , L(model|O) = 40.29581994874503 , L(model_new|O) = 40.29541358594938 , converging = True\n",
      "iter:  111 , L(model|O) = 40.29541358594938 , L(model_new|O) = 40.29508518789244 , converging = True\n",
      "iter:  112 , L(model|O) = 40.29508518789244 , L(model_new|O) = 40.29481984909782 , converging = True\n",
      "iter:  113 , L(model|O) = 40.29481984909782 , L(model_new|O) = 40.294605471185065 , converging = True\n",
      "iter:  114 , L(model|O) = 40.294605471185065 , L(model_new|O) = 40.29443225730767 , converging = True\n",
      "iter:  115 , L(model|O) = 40.29443225730767 , L(model_new|O) = 40.29429228650389 , converging = True\n",
      "iter:  116 , L(model|O) = 40.29429228650389 , L(model_new|O) = 40.294179160624495 , converging = True\n",
      "iter:  117 , L(model|O) = 40.294179160624495 , L(model_new|O) = 40.29408771438205 , converging = True\n"
     ]
    }
   ],
   "source": [
    "print (\"Doing Baum-welch\")\n",
    "gmmhmm.train(obs,1000)"
   ]
  },
  {
   "cell_type": "code",
   "execution_count": 19,
   "metadata": {},
   "outputs": [
    {
     "name": "stdout",
     "output_type": "stream",
     "text": [
      "Pi [1.00000000e+000 2.99790589e-079 6.75830440e-253 1.31168135e-174\n",
      " 1.53253572e-134]\n",
      "A [[5.73845987e-01 1.42214219e-32 4.26154013e-01 1.07174816e-23\n",
      "  5.90089856e-29]\n",
      " [9.99999843e-01 4.81944948e-08 5.27028464e-26 4.08142173e-15\n",
      "  1.08509305e-07]\n",
      " [4.14278763e-20 8.60396121e-29 3.10828536e-01 6.89171464e-01\n",
      "  1.77838677e-19]\n",
      " [1.85448792e-26 1.47456917e-18 4.86619280e-12 7.76637951e-01\n",
      "  2.23362049e-01]\n",
      " [2.82722823e-12 3.69942837e-01 8.99274924e-31 1.00179443e-13\n",
      "  6.30057163e-01]]\n",
      "weights [[0.38742164 0.3749456  0.01710525 0.22052752]\n",
      " [0.66725133 0.22937568 0.02996857 0.07340442]\n",
      " [0.23034284 0.45841751 0.11295213 0.19828752]\n",
      " [0.56152894 0.04452257 0.23455335 0.15939514]\n",
      " [0.41951683 0.09406589 0.41786152 0.06855577]]\n",
      "means [[[-0.01928005  0.16584512]\n",
      "  [-0.01928005  0.16584512]\n",
      "  [-0.01928005  0.16584512]\n",
      "  [-0.01928005  0.16584512]]\n",
      "\n",
      " [[ 0.0870531  -0.09404423]\n",
      "  [ 0.0870531  -0.09404423]\n",
      "  [ 0.0870531  -0.09404423]\n",
      "  [ 0.0870531  -0.09404423]]\n",
      "\n",
      " [[-0.20669708  0.02131184]\n",
      "  [-0.20669708  0.02131184]\n",
      "  [-0.20669708  0.02131184]\n",
      "  [-0.20669708  0.02131184]]\n",
      "\n",
      " [[-0.00045594 -0.13236221]\n",
      "  [-0.00045594 -0.13236221]\n",
      "  [-0.00045594 -0.13236221]\n",
      "  [-0.00045594 -0.13236221]]\n",
      "\n",
      " [[-0.1586086  -0.09402952]\n",
      "  [-0.1586086  -0.09402952]\n",
      "  [-0.1586086  -0.09402952]\n",
      "  [-0.1586086  -0.09402952]]]\n",
      "covars [[matrix([[0.04329322, 0.0021134 ],\n",
      "        [0.0021134 , 0.01294777]]), matrix([[0.04329322, 0.0021134 ],\n",
      "        [0.0021134 , 0.01294777]]), matrix([[0.04329322, 0.0021134 ],\n",
      "        [0.0021134 , 0.01294777]]), matrix([[0.04329322, 0.0021134 ],\n",
      "        [0.0021134 , 0.01294777]])], [matrix([[ 0.04560037, -0.01976525],\n",
      "        [-0.01976525,  0.03373862]]), matrix([[ 0.04560037, -0.01976525],\n",
      "        [-0.01976525,  0.03373862]]), matrix([[ 0.04560037, -0.01976525],\n",
      "        [-0.01976525,  0.03373862]]), matrix([[ 0.04560037, -0.01976525],\n",
      "        [-0.01976525,  0.03373862]])], [matrix([[ 0.01721731, -0.00260416],\n",
      "        [-0.00260416,  0.02032155]]), matrix([[ 0.01721731, -0.00260416],\n",
      "        [-0.00260416,  0.02032155]]), matrix([[ 0.01721731, -0.00260416],\n",
      "        [-0.00260416,  0.02032155]]), matrix([[ 0.01721731, -0.00260416],\n",
      "        [-0.00260416,  0.02032155]])], [matrix([[ 0.03411954, -0.0034675 ],\n",
      "        [-0.0034675 ,  0.02395996]]), matrix([[ 0.03411954, -0.0034675 ],\n",
      "        [-0.0034675 ,  0.02395996]]), matrix([[ 0.03411954, -0.0034675 ],\n",
      "        [-0.0034675 ,  0.02395996]]), matrix([[ 0.03411954, -0.0034675 ],\n",
      "        [-0.0034675 ,  0.02395996]])], [matrix([[0.01938536, 0.00328583],\n",
      "        [0.00328583, 0.02430658]]), matrix([[0.01938536, 0.00328583],\n",
      "        [0.00328583, 0.02430658]]), matrix([[0.01938536, 0.00328583],\n",
      "        [0.00328583, 0.02430658]]), matrix([[0.01938536, 0.00328583],\n",
      "        [0.00328583, 0.02430658]])]]\n"
     ]
    }
   ],
   "source": [
    "print (\"Pi\", gmmhmm.pi)\n",
    "print (\"A\", gmmhmm.A)\n",
    "print (\"weights\", gmmhmm.w)\n",
    "print (\"means\", gmmhmm.means)\n",
    "print (\"covars\", gmmhmm.covars)"
   ]
  },
  {
   "cell_type": "code",
   "execution_count": null,
   "metadata": {},
   "outputs": [],
   "source": []
  }
 ],
 "metadata": {
  "kernelspec": {
   "display_name": "Python 3",
   "language": "python",
   "name": "python3"
  },
  "language_info": {
   "codemirror_mode": {
    "name": "ipython",
    "version": 3
   },
   "file_extension": ".py",
   "mimetype": "text/x-python",
   "name": "python",
   "nbconvert_exporter": "python",
   "pygments_lexer": "ipython3",
   "version": "3.6.5"
  }
 },
 "nbformat": 4,
 "nbformat_minor": 2
}
